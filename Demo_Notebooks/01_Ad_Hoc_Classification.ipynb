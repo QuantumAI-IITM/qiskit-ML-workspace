{
 "cells": [
  {
   "cell_type": "markdown",
   "id": "23e89a0b-f270-498d-9d59-b8f8ce41b926",
   "metadata": {},
   "source": [
    "# 01: Ad Hoc Classification\n",
    "\n",
    "Ad Hoc is a toy dataset supported in `qiskit_machine_learning` for use as a hello world type dataset for Classification tasks. Havelick et al.[1] showed that natively Quantum Datasets such as these could demonstrate the advantage QML Classifiers can have over Classical ones."
   ]
  },
  {
   "cell_type": "code",
   "execution_count": null,
   "id": "920f057e-7f6a-44d3-ad96-eb2aabcfaeca",
   "metadata": {},
   "outputs": [],
   "source": []
  }
 ],
 "metadata": {
  "kernelspec": {
   "display_name": "Python 3 (ipykernel)",
   "language": "python",
   "name": "python3"
  },
  "language_info": {
   "codemirror_mode": {
    "name": "ipython",
    "version": 3
   },
   "file_extension": ".py",
   "mimetype": "text/x-python",
   "name": "python",
   "nbconvert_exporter": "python",
   "pygments_lexer": "ipython3",
   "version": "3.10.5"
  }
 },
 "nbformat": 4,
 "nbformat_minor": 5
}
