{
 "cells": [
  {
   "cell_type": "markdown",
   "id": "48c8e316-1587-412d-80a3-bf55996ff28e",
   "metadata": {},
   "source": [
    "# 02: H-Atom Fast Forward\n",
    "\n",
    "Recent literature has shown methods such as Variational Fast Forwarding which aims to predict the long-term time evolutions of a system given data on the short-term evolutions of the system. Filip et al [1] and Cîrstoiu et al [2] have demonstrated two different ways to train a VFF using short-term evolution data. This dataset provides us short-term data and gives us testing points for long-term performance benchmarking"
   ]
  },
  {
   "cell_type": "markdown",
   "id": "5a721884-ec87-4304-8bdd-1804a51fa972",
   "metadata": {},
   "source": [
    "## 02.1 Data Format\n",
    "\n",
    "The data generator gives us the following:\n",
    "- `⎢ѱHK〉`: The Hartree Fock State of the system\n",
    "- `X_train`: `[Δt, 2Δtm …MΔt]` which are uniform timestamps at which short-term evolutions are recorded\n",
    "- `Y_train`: `U(Δt)⎢ѱHK〉...U(MΔt)⎢ѱHK〉` which are the short-term evolutions but with noise\n",
    "- `X_test`: `[PΔt…NΔt]` which are the long-term timestamps\n",
    "- `Y_test`: `U(PΔt)⎢ѱHK〉…U(NΔt)⎢ѱHK〉` which are the long-term noiseless evolutions\n",
    "\n",
    "The data generator gets the `U(Δt)` and the `⎢ѱHK〉` from a H-atom model given by the hyperparameters. The noisy generations allow us to also benchmark our pipeline on how well it avoids overfitting to noise which wasn't discussed in the references above"
   ]
  },
  {
   "cell_type": "markdown",
   "id": "330408a5-a18b-4f0e-a2e5-68e0a051192a",
   "metadata": {},
   "source": [
    "### 02.1.1 H-Atom Hamiltonians\n",
    "\n",
    "We need some Chemistry to first decide what geometries to import.\n",
    "\n",
    "- H2: Usually found at a `0.735 Å` equilibrium bond distance [O’Malley et al. (2016)]\n",
    "- H3+: Usually found both in an equilateral triangle configuration and a linear configuration. We will proceed with the linear one with `0.9 Å` between each pair\n",
    "- H6: Usually modelled as a linear chain of 6 atoms with bond lengths `1 Å` between each pair\n"
   ]
  },
  {
   "cell_type": "markdown",
   "id": "2fdc34c9-39c9-4af6-ac5b-e38336ba5b8f",
   "metadata": {},
   "source": [
    "#### Electronic Hamiltonians from PySCF "
   ]
  },
  {
   "cell_type": "code",
   "execution_count": 1,
   "id": "d8899ce7-ca3a-4594-a079-1af9c4a9c3d8",
   "metadata": {},
   "outputs": [
    {
     "ename": "ImportError",
     "evalue": "attempted relative import with no known parent package",
     "output_type": "error",
     "traceback": [
      "\u001b[1;31m---------------------------------------------------------------------------\u001b[0m",
      "\u001b[1;31mImportError\u001b[0m                               Traceback (most recent call last)",
      "Cell \u001b[1;32mIn[1], line 24\u001b[0m\n\u001b[0;32m     21\u001b[0m \u001b[38;5;28;01mimport\u001b[39;00m \u001b[38;5;21;01mqiskit_nature\u001b[39;00m\u001b[38;5;21;01m.\u001b[39;00m\u001b[38;5;21;01moptionals\u001b[39;00m \u001b[38;5;28;01mas\u001b[39;00m \u001b[38;5;21;01m_optionals\u001b[39;00m\n\u001b[0;32m     22\u001b[0m \u001b[38;5;28;01mfrom\u001b[39;00m \u001b[38;5;21;01mqiskit_nature\u001b[39;00m\u001b[38;5;21;01m.\u001b[39;00m\u001b[38;5;21;01mutils\u001b[39;00m \u001b[38;5;28;01mimport\u001b[39;00m get_einsum\n\u001b[1;32m---> 24\u001b[0m \u001b[38;5;28;01mfrom\u001b[39;00m \u001b[38;5;21;01m.\u001b[39;00m\u001b[38;5;21;01m.\u001b[39;00m\u001b[38;5;21;01melectronic_structure_driver\u001b[39;00m \u001b[38;5;28;01mimport\u001b[39;00m ElectronicStructureDriver, MethodType, _QCSchemaData\n\u001b[0;32m     26\u001b[0m logger \u001b[38;5;241m=\u001b[39m logging\u001b[38;5;241m.\u001b[39mgetLogger(\u001b[38;5;18m__name__\u001b[39m)\n\u001b[0;32m     28\u001b[0m warnings\u001b[38;5;241m.\u001b[39mfilterwarnings(\u001b[38;5;124m\"\u001b[39m\u001b[38;5;124mignore\u001b[39m\u001b[38;5;124m\"\u001b[39m, category\u001b[38;5;241m=\u001b[39m\u001b[38;5;167;01mDeprecationWarning\u001b[39;00m, module\u001b[38;5;241m=\u001b[39m\u001b[38;5;124m\"\u001b[39m\u001b[38;5;124mpyscf\u001b[39m\u001b[38;5;124m\"\u001b[39m)\n",
      "\u001b[1;31mImportError\u001b[0m: attempted relative import with no known parent package"
     ]
    }
   ],
   "source": []
  },
  {
   "cell_type": "code",
   "execution_count": null,
   "id": "814777e5-60ce-4df7-858e-2345f07725f9",
   "metadata": {},
   "outputs": [],
   "source": [
    "driver = PySCFDriver(\n",
    "    atom=\"H 0 0 0; H 0 0 0.735\",\n",
    "    basis=\"sto3g\",\n",
    "    charge=0,\n",
    "    spin=0,\n",
    "    unit=DistanceUnit.ANGSTROM,\n",
    ")\n",
    "\n",
    "es_problem = driver.run()\n",
    "\n",
    "num_alpha_electrons = es_problem.num_alpha \n",
    "num_beta_electrons = es_problem.num_beta \n",
    "num_spin_orbitals = int(es_problem.num_spin_orbitals) \n",
    "\n",
    "nuclear_rep_energy = es_problem.nuclear_repulsion_energy \n",
    "print(\"number of alpha electrons: \" , num_alpha_electrons)\n",
    "print(\"number of beta electrons: \" , num_beta_electrons)\n",
    "print(\"number of spin orbitals: \" , num_spin_orbitals)\n",
    "print(\"nuclear repulsion energy: \" , nuclear_rep_energy)\n",
    "\n",
    "hamiltonian = es_problem.hamiltonian \n",
    "second_q_op = hamiltonian.second_q_op() \n",
    "mapper = JordanWignerMapper()\n",
    "qubit_op = mapper.map(second_q_op) \n",
    "\n",
    "service = QiskitRuntimeService(channel=\"ibm_quantum\")\n",
    "backend = service.backend('ibm_sherbrooke')\n",
    "# backend = service.least_busy(simulator=False)\n",
    "# estimator = Estimator(backend_options={\"method\": \"statevector\"})\n",
    "estimator = EstimatorV2(backend)\n",
    "\n",
    "# from qiskit.utils import algorithm_globals\n",
    "from qiskit.circuit.library import EfficientSU2\n",
    "from qiskit_nature.second_q.circuit.library import HartreeFock\n",
    "\n",
    "# algorithm_globals.random_seed = 1024\n",
    "convergence = []\n",
    "job_list = []\n",
    "\n",
    "\n",
    "def evaluate_expectation(x):\n",
    "    x = list(x)\n",
    "    job = estimator.run(circuits=[ansatz], observables=[qubit_op_parity], parameter_values=[x]).result()\n",
    "\n",
    "    results = job.values[0]\n",
    "    job_list.append(results)\n",
    "    convergence.append(np.real(results))\n",
    "    return np.real(results)\n",
    "\n",
    "np.random.seed(10)\n",
    "\n",
    "init_state = HartreeFock(num_spatial_orbitals=es_problem.num_spatial_orbitals, num_particles= es_problem.num_particles, qubit_mapper=mapper) \n",
    "\n",
    "ansatz = UCC(num_spatial_orbitals=es_problem.num_spatial_orbitals, num_particles=es_problem.num_particles, excitations=[1, 2], qubit_mapper=mapper, initial_state = init_state) \n",
    "\n",
    "initial_point = np.random.random(ansatz.num_parameters)\n",
    "optimizer = SPSA(maxiter = 50) \n",
    "\n",
    "result = optimizer.minimize(evaluate_expectation,x0= initial_point)"
   ]
  },
  {
   "cell_type": "markdown",
   "id": "828dd5b6-a30f-4d74-99f0-ed25275b89e1",
   "metadata": {},
   "source": [
    "### 02.1.1 Hamiltonian Models\n"
   ]
  },
  {
   "cell_type": "code",
   "execution_count": null,
   "id": "577893e5-94ac-4bdd-81de-bc63b9d11811",
   "metadata": {},
   "outputs": [],
   "source": []
  }
 ],
 "metadata": {
  "kernelspec": {
   "display_name": "Python 3 (ipykernel)",
   "language": "python",
   "name": "python3"
  },
  "language_info": {
   "codemirror_mode": {
    "name": "ipython",
    "version": 3
   },
   "file_extension": ".py",
   "mimetype": "text/x-python",
   "name": "python",
   "nbconvert_exporter": "python",
   "pygments_lexer": "ipython3",
   "version": "3.10.5"
  }
 },
 "nbformat": 4,
 "nbformat_minor": 5
}
