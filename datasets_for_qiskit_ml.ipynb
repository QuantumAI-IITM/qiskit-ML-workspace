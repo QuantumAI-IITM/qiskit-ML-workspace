{
 "cells": [
  {
   "cell_type": "markdown",
   "id": "ace0c6cc-1e40-4dba-be23-e1f91c68f9b5",
   "metadata": {},
   "source": [
    "# Abstract"
   ]
  },
  {
   "cell_type": "markdown",
   "id": "1596ae92-2fff-41d3-8f0b-1ea5661ba1af",
   "metadata": {},
   "source": [
    "Variational Quantum Algorithms (VQAs) are becoming increasingly significant with the advancement of quantum computing technologies. However, the benchmarking of such algorithms remains fragmented, with most existing benchmarks relying either on classical datasets mapped to quantum representations or on custom datasets created for specific research purposes. This lack of standardization hinders fair and reproducible evaluation of quantum machine learning pipelines. In this project, we address this gap by revamping the Datasets module of the Qiskit Machine Learning repository. Our contributions include the systematic standardization of dataset generators, enabling consistent and reproducible benchmarking of VQAs. This work lays the foundation for a more robust evaluation framework and facilitates future developments in quantum machine learning research."
   ]
  },
  {
   "cell_type": "markdown",
   "id": "9d92ea5c-ca51-4e2a-acf4-b8cc07df9bd6",
   "metadata": {},
   "source": [
    "# Introduction & Background"
   ]
  },
  {
   "cell_type": "markdown",
   "id": "ca36003d-8e2b-41c4-8539-7026838e48b4",
   "metadata": {},
   "source": [
    "Recent literature has discussed that to really search for Quantum advantage, we first have to start using natively quantum datasets. This is because benchmarking the pipeline when a feature map has been used to map classical data to quantum features will invariably also include the performance of the feature-map in the benchmark. In efforts towards this, Qiskit ML repository already had a natively quantum toy dataset called the `ad_hoc_data`. \n",
    "\n",
    "While the original implementation was contraint to 2 and 3 qubits, our refactoring initiative aimed to generalize this dataset generator to support arbitrary qubit counts while preserving its core mathematical structure. encodes data vectors \\(\\vec{x} \\in (0, 2\\pi]^n\\) through a parameterized quantum circuit:\n",
    "\n",
    "\\[\n",
    "U_{\\Phi}(\\vec{x}) = \\exp\\left(i\\sum_{S \\subseteq [n]}\\phi_S(\\vec{x})\\prod_{i\\in S}Z_i\\right)\n",
    "\\]\n",
    "\n",
    "where \\(\\phi_{\\{i,j\\}} = (\\pi-x_i)(\\pi-x_j)\\) and \\(\\phi_{\\{i\\}} = x_i\\)."
   ]
  },
  {
   "cell_type": "code",
   "execution_count": null,
   "id": "a98091d8-7135-4996-ad94-f8c9b12b5078",
   "metadata": {},
   "outputs": [],
   "source": []
  }
 ],
 "metadata": {
  "kernelspec": {
   "display_name": "Python 3 (ipykernel)",
   "language": "python",
   "name": "python3"
  },
  "language_info": {
   "codemirror_mode": {
    "name": "ipython",
    "version": 3
   },
   "file_extension": ".py",
   "mimetype": "text/x-python",
   "name": "python",
   "nbconvert_exporter": "python",
   "pygments_lexer": "ipython3",
   "version": "3.10.5"
  }
 },
 "nbformat": 4,
 "nbformat_minor": 5
}
