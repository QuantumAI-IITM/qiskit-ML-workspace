{
 "cells": [
  {
   "cell_type": "markdown",
   "id": "ace0c6cc-1e40-4dba-be23-e1f91c68f9b5",
   "metadata": {},
   "source": [
    "# Abstract"
   ]
  },
  {
   "cell_type": "markdown",
   "id": "1596ae92-2fff-41d3-8f0b-1ea5661ba1af",
   "metadata": {},
   "source": [
    "Variational Quantum Algorithms (VQAs) are becoming increasingly significant with the advancement of quantum computing technologies. However, the benchmarking of such algorithms remains fragmented, with most existing benchmarks relying either on classical datasets mapped to quantum representations or on custom datasets created for specific research purposes. This lack of standardization hinders fair and reproducible evaluation of quantum machine learning pipelines. In this project, we address this gap by revamping the Datasets module of the Qiskit Machine Learning repository. Our contributions include the systematic standardization of dataset generators, enabling consistent and reproducible benchmarking of VQAs. This work lays the foundation for a more robust evaluation framework and facilitates future developments in quantum machine learning research."
   ]
  },
  {
   "cell_type": "markdown",
   "id": "9d92ea5c-ca51-4e2a-acf4-b8cc07df9bd6",
   "metadata": {},
   "source": [
    "# Motivation & Previous Work"
   ]
  },
  {
   "cell_type": "markdown",
   "id": "ca36003d-8e2b-41c4-8539-7026838e48b4",
   "metadata": {},
   "source": [
    "Recent literature has discussed that to really search for Quantum advantage, we first have to start using natively quantum datasets. This is because benchmarking the pipeline when a feature map has been used to map classical data to quantum features will invariably also include the performance of the feature-map in the benchmark. In efforts towards this, Qiskit ML repository already had a natively quantum toy dataset called the `ad_hoc_data`. \n",
    "\n",
    "While the original implementation was contraint to 2 and 3 qubits, our refactoring initiative aimed to generalize this dataset generator to support arbitrary qubit counts while preserving its core mathematical structure. This dataset encodes data vectors $\\vec{x} \\in (0, 2\\pi]^n$ through a parameterized quantum circuit:\n",
    "\n",
    "\n",
    "$$U_{\\Phi}(\\vec{x}) = \\exp\\left(i\\sum_{S \\subseteq [n]}\\phi_S(\\vec{x})\\prod_{i\\in S}Z_i\\right)$$\n",
    "\n",
    "where $\\phi_{\\{i,j\\}} = (\\pi-x_i)(\\pi-x_j)$ and $\\phi_{\\{i\\}} = x_i$. Then the labels are assigned with the below expression, where V is a random unitary.\n",
    "\n",
    "$$m(\\vec{x}) = \\text{sign}\\left(\\langle\\Phi(\\vec{x})|V^\\dagger\\left(\\prod_i Z_i\\right)V|\\Phi(\\vec{x})\\rangle\\right)$$\n",
    "\n",
    "Below is an example call of our re-factored Ad Hoc that can run for any number of qubits"
   ]
  },
  {
   "cell_type": "code",
   "execution_count": 3,
   "id": "a98091d8-7135-4996-ad94-f8c9b12b5078",
   "metadata": {},
   "outputs": [
    {
     "ename": "ImportError",
     "evalue": "cannot import name 'QuantumDataGenerator' from 'qiskit_machine_learning.datasets.hamiltonians.hamiltonian_base' (D:\\Code\\Qiskit-ML\\qiskit-ML-workspace\\qiskit_machine_learning\\datasets\\hamiltonians\\hamiltonian_base.py)",
     "output_type": "error",
     "traceback": [
      "\u001b[1;31m---------------------------------------------------------------------------\u001b[0m",
      "\u001b[1;31mImportError\u001b[0m                               Traceback (most recent call last)",
      "Cell \u001b[1;32mIn[3], line 1\u001b[0m\n\u001b[1;32m----> 1\u001b[0m \u001b[38;5;28;01mfrom\u001b[39;00m \u001b[38;5;21;01mqiskit_machine_learning\u001b[39;00m\u001b[38;5;21;01m.\u001b[39;00m\u001b[38;5;21;01mdatasets\u001b[39;00m \u001b[38;5;28;01mimport\u001b[39;00m ad_hoc_data\n\u001b[0;32m      2\u001b[0m x_train, _, _, _ \u001b[38;5;241m=\u001b[39m ad_hoc_data(\n\u001b[0;32m      3\u001b[0m     training_size \u001b[38;5;241m=\u001b[39m \u001b[38;5;241m4\u001b[39m,\n\u001b[0;32m      4\u001b[0m     test_size \u001b[38;5;241m=\u001b[39m \u001b[38;5;241m2\u001b[39m,\n\u001b[1;32m   (...)\u001b[0m\n\u001b[0;32m     13\u001b[0m     labelling_method \u001b[38;5;241m=\u001b[39m \u001b[38;5;124m\"\u001b[39m\u001b[38;5;124mexpectation\u001b[39m\u001b[38;5;124m\"\u001b[39m,\n\u001b[0;32m     14\u001b[0m     class_labels \u001b[38;5;241m=\u001b[39m \u001b[38;5;28;01mNone\u001b[39;00m)\n\u001b[0;32m     15\u001b[0m x_train\n",
      "File \u001b[1;32mD:\\Code\\Qiskit-ML\\qiskit-ML-workspace\\qiskit_machine_learning\\datasets\\__init__.py:35\u001b[0m\n\u001b[0;32m     33\u001b[0m \u001b[38;5;28;01mfrom\u001b[39;00m \u001b[38;5;21;01m.\u001b[39;00m\u001b[38;5;21;01mentanglement_concentration\u001b[39;00m \u001b[38;5;28;01mimport\u001b[39;00m entanglement_concentration_data\n\u001b[0;32m     34\u001b[0m \u001b[38;5;28;01mfrom\u001b[39;00m \u001b[38;5;21;01m.\u001b[39;00m\u001b[38;5;21;01mh_molecule_evolution\u001b[39;00m \u001b[38;5;28;01mimport\u001b[39;00m h_molecule_evolution_data\n\u001b[1;32m---> 35\u001b[0m \u001b[38;5;28;01mfrom\u001b[39;00m \u001b[38;5;21;01m.\u001b[39;00m\u001b[38;5;21;01mphase_of_matter\u001b[39;00m \u001b[38;5;28;01mimport\u001b[39;00m phase_of_matter_data\n\u001b[0;32m     37\u001b[0m __all__ \u001b[38;5;241m=\u001b[39m [\n\u001b[0;32m     38\u001b[0m     \u001b[38;5;124m\"\u001b[39m\u001b[38;5;124mad_hoc_data\u001b[39m\u001b[38;5;124m\"\u001b[39m,\n\u001b[0;32m     39\u001b[0m     \u001b[38;5;124m\"\u001b[39m\u001b[38;5;124mentanglement_concentration_data\u001b[39m\u001b[38;5;124m\"\u001b[39m,\n\u001b[0;32m     40\u001b[0m     \u001b[38;5;124m\"\u001b[39m\u001b[38;5;124mh_molecule_evolution_data\u001b[39m\u001b[38;5;124m\"\u001b[39m,\n\u001b[0;32m     41\u001b[0m     \u001b[38;5;124m\"\u001b[39m\u001b[38;5;124mphase_of_matter_data\u001b[39m\u001b[38;5;124m\"\u001b[39m\n\u001b[0;32m     42\u001b[0m ]\n",
      "File \u001b[1;32mD:\\Code\\Qiskit-ML\\qiskit-ML-workspace\\qiskit_machine_learning\\datasets\\phase_of_matter.py:22\u001b[0m\n\u001b[0;32m     19\u001b[0m \u001b[38;5;28;01mfrom\u001b[39;00m \u001b[38;5;21;01m.\u001b[39;00m\u001b[38;5;21;01mvqe\u001b[39;00m \u001b[38;5;28;01mimport\u001b[39;00m VQE\n\u001b[0;32m     21\u001b[0m \u001b[38;5;66;03m# Import the QuantumDataGenerator\u001b[39;00m\n\u001b[1;32m---> 22\u001b[0m \u001b[38;5;28;01mfrom\u001b[39;00m \u001b[38;5;21;01mqiskit_machine_learning\u001b[39;00m\u001b[38;5;21;01m.\u001b[39;00m\u001b[38;5;21;01mdatasets\u001b[39;00m\u001b[38;5;21;01m.\u001b[39;00m\u001b[38;5;21;01mhamiltonians\u001b[39;00m\u001b[38;5;21;01m.\u001b[39;00m\u001b[38;5;21;01mhamiltonian_base\u001b[39;00m \u001b[38;5;28;01mimport\u001b[39;00m QuantumDataGenerator\n\u001b[0;32m     25\u001b[0m \u001b[38;5;28;01mdef\u001b[39;00m \u001b[38;5;21mphase_of_matter_data\u001b[39m(\n\u001b[0;32m     26\u001b[0m     model_name: \u001b[38;5;28mstr\u001b[39m,\n\u001b[0;32m     27\u001b[0m     num_qubits: \u001b[38;5;28mint\u001b[39m \u001b[38;5;241m=\u001b[39m \u001b[38;5;241m3\u001b[39m,\n\u001b[1;32m   (...)\u001b[0m\n\u001b[0;32m     32\u001b[0m     backend: \u001b[38;5;28mstr\u001b[39m \u001b[38;5;241m=\u001b[39m \u001b[38;5;124m'\u001b[39m\u001b[38;5;124maer_simulator\u001b[39m\u001b[38;5;124m'\u001b[39m\n\u001b[0;32m     33\u001b[0m ) \u001b[38;5;241m-\u001b[39m\u001b[38;5;241m>\u001b[39m pd\u001b[38;5;241m.\u001b[39mDataFrame:\n\u001b[0;32m     34\u001b[0m \u001b[38;5;250m    \u001b[39m\u001b[38;5;124;03m\"\"\"\u001b[39;00m\n\u001b[0;32m     35\u001b[0m \u001b[38;5;124;03m    Generate a dataset for a specified quantum phase of matter model.\u001b[39;00m\n\u001b[0;32m     36\u001b[0m \n\u001b[1;32m   (...)\u001b[0m\n\u001b[0;32m     57\u001b[0m \u001b[38;5;124;03m        )\u001b[39;00m\n\u001b[0;32m     58\u001b[0m \u001b[38;5;124;03m    \"\"\"\u001b[39;00m\n",
      "\u001b[1;31mImportError\u001b[0m: cannot import name 'QuantumDataGenerator' from 'qiskit_machine_learning.datasets.hamiltonians.hamiltonian_base' (D:\\Code\\Qiskit-ML\\qiskit-ML-workspace\\qiskit_machine_learning\\datasets\\hamiltonians\\hamiltonian_base.py)"
     ]
    }
   ],
   "source": [
    "from qiskit_machine_learning.datasets import ad_hoc_data\n",
    "x_train, _, _, _ = ad_hoc_data(\n",
    "    training_size = 4,\n",
    "    test_size = 2,\n",
    "    n = 4,\n",
    "    gap = 0.2,\n",
    "    plot_data = False,\n",
    "    one_hot = True,\n",
    "    include_sample_total = False,\n",
    "    entanglement = \"full\",\n",
    "    sampling_method = \"sobol\",\n",
    "    divisions = 0,\n",
    "    labelling_method = \"expectation\",\n",
    "    class_labels = None)\n",
    "x_train"
   ]
  },
  {
   "cell_type": "markdown",
   "id": "acd3e04b-8308-4cbc-a731-d2e398b188ea",
   "metadata": {},
   "source": [
    "Following this, we propose three new datasets:\n",
    "1. Entanglement Concentration Dataset for Binary Classification pipelines: https://github.com/qiskit-community/qiskit-machine-learning/pull/915\n",
    "2. Phase Of Matter Dataset for Multi-class Classification pipelines: https://github.com/qiskit-community/qiskit-machine-learning/pull/918\n",
    "3. H-Molecule Evolution Dataset for Fast Forwarding pipelines: https://github.com/qiskit-community/qiskit-machine-learning/pull/916"
   ]
  },
  {
   "cell_type": "markdown",
   "id": "48b51955-d794-4efa-af21-2d6f51e8ede4",
   "metadata": {},
   "source": [
    "# Entanglement Concentration Dataset"
   ]
  },
  {
   "cell_type": "markdown",
   "id": "4d93a3c9-2999-4391-9f32-03306715c625",
   "metadata": {},
   "source": [
    "One of the intrinsic properties of Quantum Data is correlation between qubits. Louis Schatzki et al. introduced the NTangled dataset, which consists of quantum states with varied multipartite entanglement types and degrees. These states are generated using parameterized quantum circuits (PQCs) trained to produce specific entanglement levels which are quantified by measures like concentratable entanglement (CE). Then algorithms can be benchmarked on the seperating the different entanglement types into different classes\n",
    "\n",
    "This dataset has been constructed to benchmark Binary Classification tasks with two modes: hard and easy.``\"easy\"``: uses CE values 0.18 and 0.40 for n = 3 and 0.12 and 0.43 for n = 4. ``\"hard\"``: uses CE values 0.28 and 0.40 for n = 3 and 0.22 and 0.34 for n = 4\n",
    "\n",
    "The generation process involves three key steps:\n",
    "1. Circuit Initialization: Loading pre-trained weights from the repository to configure the PQCs.\n",
    "2. Input Preparation: Sampling product states (for example, random computational basis states) as inputs.\n",
    "3. State Evolution: Passing inputs through the initialized circuits to output entangled states.\n",
    "\n"
   ]
  },
  {
   "cell_type": "markdown",
   "id": "c37bad07-0446-4c67-bc44-eb2621948e8d",
   "metadata": {},
   "source": [
    "## Circuit Initialization\n",
    "The below snippet shows the structure of the Ansatz used. "
   ]
  },
  {
   "cell_type": "code",
   "execution_count": null,
   "id": "407d9de4-9c0c-4d8a-bf9b-562268889ed9",
   "metadata": {},
   "outputs": [],
   "source": [
    "from qiskit import QuantumCircuit\n",
    "from qiskit.quantum_info import Operator, Statevector\n",
    "from qiskit.circuit import ParameterVector\n",
    "\n",
    "def _hardware_efficient_ansatz(\n",
    "    qc: QuantumCircuit, \n",
    "    params: ParameterVector, \n",
    "    n_qubits: int, \n",
    "    depth: int\n",
    ") -> None:\n",
    "    \"\"\"Append a hardware‑efficient ansatz layer‑by‑layer to the Quantum Circuit.\"\"\"\n",
    "\n",
    "    p = iter(params) \n",
    "\n",
    "    for _ in range(depth):\n",
    "        for q in range(n_qubits):\n",
    "            qc.rx(next(p), q)\n",
    "            qc.ry(next(p), q)\n",
    "            qc.rz(next(p), q)\n",
    "\n",
    "        for q in range(n_qubits - 1):\n",
    "            qc.cx(q, q + 1)\n",
    "        if n_qubits > 1:\n",
    "            qc.cx(n_qubits - 1, 0)"
   ]
  },
  {
   "cell_type": "markdown",
   "id": "c66b924e-dd79-4d8f-8567-9eecae639da1",
   "metadata": {},
   "source": [
    "## Input Preparation\n",
    "Qubit states are sampled in the Block Sphere and then taken Kronecker products of. This ensure the input states given have no entanglement to begin with. We have two options for the sampling. Isotropic generates qubit states that are sampled randomly in the Bloch Sphere and takes the tensor product of all the qubits to build the input state. Cardinal generates only states that fall on the axes of the Bloch Sphere before taking the tensor product. Below snippet demonstrates Isotropic sampling"
   ]
  },
  {
   "cell_type": "code",
   "execution_count": null,
   "id": "927a557e-eb1a-4d8f-8b22-786239c7afd6",
   "metadata": {},
   "outputs": [],
   "source": [
    "import numpy as np\n",
    "def isotropic(n_qubits: int, n_points: int) -> np.ndarray:  \n",
    "    \"\"\"Samples Qubit States uniformly in the Block Sphere\"\"\"\n",
    "    rng = np.random\n",
    "    # Uniform sampling on the sphere\n",
    "    z = rng.uniform(-1, 1, size=(n_points, n_qubits))\n",
    "    phi = rng.uniform(0, 2 * np.pi, size=(n_points, n_qubits))\n",
    "    theta = np.arccos(z)\n",
    "    cos = np.cos(theta / 2)\n",
    "    sin = np.sin(theta / 2)\n",
    "    q_vectors = np.stack(\n",
    "        [cos, sin * np.exp(1j * phi)],\n",
    "        axis=-1\n",
    "    )\n",
    "    # Broadcast-and-Product\n",
    "    ints   = np.arange(2**n_qubits, dtype=np.uint16)[:, None]\n",
    "    bits   = ((ints >> np.arange(n_qubits)) & 1).astype(np.int8)\n",
    "    labels = np.flip(bits, axis=1)\n",
    "    picked = np.take_along_axis(\n",
    "        q_vectors[:, None, :, :],\n",
    "        labels[None, :, :, None],  \n",
    "        axis=3,\n",
    "    )  \n",
    "    amplitudes = picked.squeeze(-1).prod(axis=2)\n",
    "    return amplitudes[:, :, None]\n",
    "isotropic(2, 2)"
   ]
  },
  {
   "cell_type": "markdown",
   "id": "04dd937e-ef45-4e33-9426-06f6853b9dc3",
   "metadata": {},
   "source": [
    "## State Evolution\n",
    "Finally the states are taken through two different circuits for classes A and B respectively. "
   ]
  },
  {
   "cell_type": "code",
   "execution_count": null,
   "id": "63faa466-2dae-47b5-847a-b775a42aa3f2",
   "metadata": {},
   "outputs": [],
   "source": [
    "from qiskit_machine_learning.datasets import entanglement_concentration_data\n",
    "count = 5\n",
    "x_train, _, _, _ = entanglement_concentration_data(\n",
    "    training_size=count, test_size=0, n=3, mode=\"easy\", formatting=\"statevector\"\n",
    ")"
   ]
  },
  {
   "cell_type": "markdown",
   "id": "16fde167-43aa-4e4e-99b7-a46640220ac8",
   "metadata": {},
   "source": [
    "## Concentration of Entanglement\n",
    "Below snippet verifies that the above points have the expected CE"
   ]
  },
  {
   "cell_type": "code",
   "execution_count": null,
   "id": "8967deb8-8128-4e92-a25e-6c3eebdaaf17",
   "metadata": {},
   "outputs": [],
   "source": [
    "def _compute_ce(sv):\n",
    "    \"\"\"Computing CE using Mathematical Expression due to Beckey, J. L. et al.\n",
    "    (alternatively SWAP test can be used if done in a Quantum Circuit)\"\"\"\n",
    "    n = sv.num_qubits\n",
    "    # Convert to density matrix\n",
    "    rho = sv.to_operator().data\n",
    "    ce_sum = 0.0\n",
    "    # Generate all non-empty subsets of qubit indices\n",
    "    qubit_indices = list(range(n))\n",
    "    for r in range(1, n + 1):\n",
    "        for subset in itertools.combinations(qubit_indices, r):\n",
    "            # Compute the reduced density matrix for the subset\n",
    "            traced_out = [i for i in qubit_indices if i not in subset]\n",
    "            reduced_rho = partial_trace(rho, traced_out)\n",
    "            ce_sum += reduced_rho.purity()\n",
    "    ce = 1 - (ce_sum / (2**n))\n",
    "    return ce\n",
    "low_ce = np.mean([_compute_ce(x_train[i]) for i in range(count)])\n",
    "high_ce = np.mean([_compute_ce(x_train[i + count]) for i in range(count)])\n",
    "print(low_ce, high_ce)"
   ]
  },
  {
   "cell_type": "code",
   "execution_count": null,
   "id": "8c074a8c-58d4-4f23-834f-acc4b871b508",
   "metadata": {},
   "outputs": [],
   "source": []
  }
 ],
 "metadata": {
  "kernelspec": {
   "display_name": "Python 3 (ipykernel)",
   "language": "python",
   "name": "python3"
  },
  "language_info": {
   "codemirror_mode": {
    "name": "ipython",
    "version": 3
   },
   "file_extension": ".py",
   "mimetype": "text/x-python",
   "name": "python",
   "nbconvert_exporter": "python",
   "pygments_lexer": "ipython3",
   "version": "3.10.5"
  }
 },
 "nbformat": 4,
 "nbformat_minor": 5
}
