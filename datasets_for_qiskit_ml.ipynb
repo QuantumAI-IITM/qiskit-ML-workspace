{
 "cells": [
  {
   "cell_type": "markdown",
   "id": "1838df11-4242-414d-8b3e-dc61f30a967c",
   "metadata": {},
   "source": [
    "# Datasets for Qiskit ML"
   ]
  },
  {
   "cell_type": "markdown",
   "id": "ace0c6cc-1e40-4dba-be23-e1f91c68f9b5",
   "metadata": {},
   "source": [
    "## Abstract"
   ]
  },
  {
   "cell_type": "code",
   "execution_count": null,
   "id": "1596ae92-2fff-41d3-8f0b-1ea5661ba1af",
   "metadata": {},
   "outputs": [],
   "source": []
  }
 ],
 "metadata": {
  "kernelspec": {
   "display_name": "Python 3 (ipykernel)",
   "language": "python",
   "name": "python3"
  },
  "language_info": {
   "codemirror_mode": {
    "name": "ipython",
    "version": 3
   },
   "file_extension": ".py",
   "mimetype": "text/x-python",
   "name": "python",
   "nbconvert_exporter": "python",
   "pygments_lexer": "ipython3",
   "version": "3.10.5"
  }
 },
 "nbformat": 4,
 "nbformat_minor": 5
}
